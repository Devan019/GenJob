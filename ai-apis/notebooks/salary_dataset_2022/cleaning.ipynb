{
 "cells": [
  {
   "cell_type": "code",
   "execution_count": 11,
   "id": "cf98f648",
   "metadata": {},
   "outputs": [
    {
     "data": {
      "text/plain": [
       "array(['Full Time', 'Intern', 'Contractor', 'Trainee'], dtype=object)"
      ]
     },
     "execution_count": 11,
     "metadata": {},
     "output_type": "execute_result"
    }
   ],
   "source": [
    "import pandas as pd\n",
    "\n",
    "data = pd.read_csv(\"../../data/Salary_Dataset_with_Extra_Features.csv\")\n",
    "\n",
    "data = pd.DataFrame({\n",
    "  \"company_name\" : data[\"Company Name\"],\n",
    "  \"job_roles\" : data[\"Job Roles\"],\n",
    "  \"location\" : data[\"Location\"],\n",
    "  \"employment_status\" : data[\"Employment Status\"]\n",
    "})\n",
    "\n",
    "companies = data[\"company_name\"].unique()\n",
    "roles = data[\"job_roles\"].unique()\n",
    "location = data[\"location\"].unique()\n",
    "status = data[\"employment_status\"].unique()\n",
    "\n",
    "status"
   ]
  },
  {
   "cell_type": "code",
   "execution_count": null,
   "id": "d22bda68",
   "metadata": {},
   "outputs": [],
   "source": []
  }
 ],
 "metadata": {
  "kernelspec": {
   "display_name": "Python 3",
   "language": "python",
   "name": "python3"
  },
  "language_info": {
   "codemirror_mode": {
    "name": "ipython",
    "version": 3
   },
   "file_extension": ".py",
   "mimetype": "text/x-python",
   "name": "python",
   "nbconvert_exporter": "python",
   "pygments_lexer": "ipython3",
   "version": "3.10.7"
  }
 },
 "nbformat": 4,
 "nbformat_minor": 5
}
